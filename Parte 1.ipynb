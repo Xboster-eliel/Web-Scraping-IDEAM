{
  "nbformat": 4,
  "nbformat_minor": 0,
  "metadata": {
    "colab": {
      "provenance": []
    },
    "kernelspec": {
      "name": "python3",
      "display_name": "Python 3"
    },
    "language_info": {
      "name": "python"
    }
  },
  "cells": [
    {
      "cell_type": "code",
      "source": [
        "%pip install google-colab-selenium"
      ],
      "metadata": {
        "colab": {
          "base_uri": "https://localhost:8080/"
        },
        "outputId": "d3f25856-874e-4c19-8b77-17a48d1fdfff",
        "id": "yr_IayhjtYs7"
      },
      "execution_count": 22,
      "outputs": [
        {
          "output_type": "stream",
          "name": "stdout",
          "text": [
            "Requirement already satisfied: google-colab-selenium in /usr/local/lib/python3.11/dist-packages (1.0.14)\n",
            "Requirement already satisfied: selenium in /usr/local/lib/python3.11/dist-packages (from google-colab-selenium) (4.33.0)\n",
            "Requirement already satisfied: urllib3~=2.4.0 in /usr/local/lib/python3.11/dist-packages (from urllib3[socks]~=2.4.0->selenium->google-colab-selenium) (2.4.0)\n",
            "Requirement already satisfied: trio~=0.30.0 in /usr/local/lib/python3.11/dist-packages (from selenium->google-colab-selenium) (0.30.0)\n",
            "Requirement already satisfied: trio-websocket~=0.12.2 in /usr/local/lib/python3.11/dist-packages (from selenium->google-colab-selenium) (0.12.2)\n",
            "Requirement already satisfied: certifi>=2025.4.26 in /usr/local/lib/python3.11/dist-packages (from selenium->google-colab-selenium) (2025.4.26)\n",
            "Requirement already satisfied: typing_extensions~=4.13.2 in /usr/local/lib/python3.11/dist-packages (from selenium->google-colab-selenium) (4.13.2)\n",
            "Requirement already satisfied: websocket-client~=1.8.0 in /usr/local/lib/python3.11/dist-packages (from selenium->google-colab-selenium) (1.8.0)\n",
            "Requirement already satisfied: attrs>=23.2.0 in /usr/local/lib/python3.11/dist-packages (from trio~=0.30.0->selenium->google-colab-selenium) (25.3.0)\n",
            "Requirement already satisfied: sortedcontainers in /usr/local/lib/python3.11/dist-packages (from trio~=0.30.0->selenium->google-colab-selenium) (2.4.0)\n",
            "Requirement already satisfied: idna in /usr/local/lib/python3.11/dist-packages (from trio~=0.30.0->selenium->google-colab-selenium) (3.10)\n",
            "Requirement already satisfied: outcome in /usr/local/lib/python3.11/dist-packages (from trio~=0.30.0->selenium->google-colab-selenium) (1.3.0.post0)\n",
            "Requirement already satisfied: sniffio>=1.3.0 in /usr/local/lib/python3.11/dist-packages (from trio~=0.30.0->selenium->google-colab-selenium) (1.3.1)\n",
            "Requirement already satisfied: wsproto>=0.14 in /usr/local/lib/python3.11/dist-packages (from trio-websocket~=0.12.2->selenium->google-colab-selenium) (1.2.0)\n",
            "Requirement already satisfied: pysocks!=1.5.7,<2.0,>=1.5.6 in /usr/local/lib/python3.11/dist-packages (from urllib3[socks]~=2.4.0->selenium->google-colab-selenium) (1.7.1)\n",
            "Requirement already satisfied: h11<1,>=0.9.0 in /usr/local/lib/python3.11/dist-packages (from wsproto>=0.14->trio-websocket~=0.12.2->selenium->google-colab-selenium) (0.16.0)\n"
          ]
        }
      ]
    },
    {
      "cell_type": "code",
      "source": [
        "import google_colab_selenium as gs\n",
        "from selenium import webdriver\n",
        "from selenium.webdriver.chrome.options import Options\n",
        "from selenium.webdriver.common.by import By\n",
        "from selenium.webdriver.support.ui import WebDriverWait\n",
        "from selenium.webdriver.support import expected_conditions as EC\n",
        "from selenium.webdriver.support.ui import Select\n",
        "from selenium.common.exceptions import TimeoutException, NoSuchElementException\n",
        "import pandas as pd\n",
        "import time\n",
        "import os\n",
        "from google.colab import drive"
      ],
      "metadata": {
        "id": "JtOmUqyyKS7U"
      },
      "execution_count": 23,
      "outputs": []
    },
    {
      "cell_type": "markdown",
      "source": [
        "## **PARTE 1 (SEPTUD Y TEST DE ACCESO A LA PAGINA WEB)**"
      ],
      "metadata": {
        "id": "Oi84zLiPTCJD"
      }
    },
    {
      "cell_type": "code",
      "source": [
        "# CONFIGURACIÓN INICIAL\n",
        "def configurar_driver():\n",
        "    \"\"\"\n",
        "    Configura el driver de Chrome con las opciones necesarias para Colab\n",
        "    \"\"\"\n",
        "    print(\"🔧 Configurando el navegador Chrome...\")\n",
        "\n",
        "    chrome_options = Options()\n",
        "    # Opciones esenciales para Colab\n",
        "    chrome_options.add_argument(\"--headless\")  # Sin interfaz gráfica\n",
        "    chrome_options.add_argument(\"--no-sandbox\")  # Requerido en Colab\n",
        "    chrome_options.add_argument(\"--disable-dev-shm-usage\")  # Evita problemas de memoria\n",
        "    chrome_options.add_argument(\"--disable-gpu\")  # Desactiva GPU para mayor estabilidad\n",
        "    chrome_options.add_argument(\"--window-size=1920,1080\")  # Tamaño de ventana estándar\n",
        "\n",
        "    # Configuración para descargas automáticas\n",
        "    prefs = {\n",
        "        \"download.default_directory\": \"/content/drive/MyDrive/IDEAM_Datos\",\n",
        "        \"download.prompt_for_download\": False,\n",
        "        \"download.directory_upgrade\": True,\n",
        "        \"safebrowsing.enabled\": True\n",
        "    }\n",
        "    chrome_options.add_experimental_option(\"prefs\", prefs)\n",
        "\n",
        "    # Crear el driver\n",
        "    driver = gs.Chrome(options=chrome_options)\n",
        "    driver.set_page_load_timeout(30)  # Timeout de 30 segundos para cargar páginas\n",
        "\n",
        "    print(\"✅ Navegador configurado correctamente\")\n",
        "    return driver"
      ],
      "metadata": {
        "id": "gK6WW4BqKewH"
      },
      "execution_count": 27,
      "outputs": []
    },
    {
      "cell_type": "code",
      "source": [
        "def montar_google_drive():\n",
        "    \"\"\"\n",
        "    Monta Google Drive y crea la carpeta para los datos del IDEAM\n",
        "    \"\"\"\n",
        "    print(\"📂 Montando Google Drive...\")\n",
        "    drive.mount('/content/drive')\n",
        "\n",
        "    # Crear carpeta para los datos del IDEAM\n",
        "    carpeta_datos = '/content/IDEAM_Datos'\n",
        "    os.makedirs(carpeta_datos, exist_ok=True)\n",
        "    print(f\"✅ Carpeta creada: {carpeta_datos}\")\n",
        "\n",
        "    return carpeta_datos"
      ],
      "metadata": {
        "id": "Q_O-7-PGKh9k"
      },
      "execution_count": 49,
      "outputs": []
    },
    {
      "cell_type": "code",
      "source": [
        "# FUNCIÓN PARA MANEJAR LA VENTANA DE TÉRMINOS Y CONDICIONES\n",
        "def aceptar_terminos_condiciones(driver):\n",
        "    \"\"\"\n",
        "    Maneja la ventana emergente de términos y condiciones del IDEAM\n",
        "    Esta es la parte crítica que estaba fallando\n",
        "    \"\"\"\n",
        "    print(\"📋 Manejando términos y condiciones...\")\n",
        "\n",
        "    try:\n",
        "        # Esperar a que aparezca la ventana modal\n",
        "        print(\"⏳ Esperando ventana de términos...\")\n",
        "        modal = WebDriverWait(driver, 15).until(\n",
        "            EC.presence_of_element_located((By.CLASS_NAME, \"dijitDialog\"))\n",
        "        )\n",
        "        print(\"✅ Ventana de términos detectada\")\n",
        "\n",
        "        # Estrategia múltiple para encontrar y hacer click en el checkbox\n",
        "        checkbox_encontrado = False\n",
        "\n",
        "        # Estrategia 1: Por clase CSS específica\n",
        "        try:\n",
        "            print(\"🔍 Intentando localizar checkbox - Estrategia 1...\")\n",
        "            checkbox = WebDriverWait(driver, 10).until(\n",
        "                EC.element_to_be_clickable((By.CSS_SELECTOR, 'div.checkbox.jimu-float-leading'))\n",
        "            )\n",
        "            checkbox.click()\n",
        "            print(\"✅ Checkbox marcado (Estrategia 1)\")\n",
        "            checkbox_encontrado = True\n",
        "        except:\n",
        "            print(\"❌ Estrategia 1 falló\")\n",
        "\n",
        "        # Estrategia 2: Por input type checkbox\n",
        "        if not checkbox_encontrado:\n",
        "            try:\n",
        "                print(\"🔍 Intentando localizar checkbox - Estrategia 2...\")\n",
        "                checkbox = driver.find_element(By.CSS_SELECTOR, 'input[type=\"checkbox\"]')\n",
        "                driver.execute_script(\"arguments[0].click();\", checkbox)\n",
        "                print(\"✅ Checkbox marcado (Estrategia 2)\")\n",
        "                checkbox_encontrado = True\n",
        "            except:\n",
        "                print(\"❌ Estrategia 2 falló\")\n",
        "\n",
        "        # Estrategia 3: Buscar por texto o etiqueta\n",
        "        if not checkbox_encontrado:\n",
        "            try:\n",
        "                print(\"🔍 Intentando localizar checkbox - Estrategia 3...\")\n",
        "                # Buscar elemento que contenga texto relacionado con aceptación\n",
        "                checkbox = driver.find_element(By.XPATH, \"//div[contains(@class, 'checkbox')]\")\n",
        "                driver.execute_script(\"arguments[0].click();\", checkbox)\n",
        "                print(\"✅ Checkbox marcado (Estrategia 3)\")\n",
        "                checkbox_encontrado = True\n",
        "            except:\n",
        "                print(\"❌ Estrategia 3 falló\")\n",
        "\n",
        "        if not checkbox_encontrado:\n",
        "            raise Exception(\"No se pudo encontrar el checkbox de términos y condiciones\")\n",
        "\n",
        "        # Pausa breve para asegurar que el checkbox se registre\n",
        "        time.sleep(2)\n",
        "\n",
        "        # Ahora buscar y hacer click en el botón \"Aceptar\"\n",
        "        print(\"🔍 Buscando botón Aceptar...\")\n",
        "\n",
        "        # Estrategias múltiples para el botón Aceptar\n",
        "        boton_encontrado = False\n",
        "\n",
        "        # Estrategia 1: Por nombre\n",
        "        try:\n",
        "            boton = WebDriverWait(driver, 15).until(\n",
        "                EC.element_to_be_clickable((By.CSS_SELECTOR, 'div[title=\"Aceptar\"]'))\n",
        "            )\n",
        "            boton.click()\n",
        "            print(\"✅ Botón Aceptar clickeado (por título)\")\n",
        "            boton_encontrado = True\n",
        "        except:\n",
        "            print(\"❌ Botón por nombre no encontrado\")\n",
        "\n",
        "        # Estrategia 2: Por texto del botón\n",
        "        if not boton_encontrado:\n",
        "            try:\n",
        "                boton = driver.find_element(By.XPATH, '//div[data-dojo-attach-event=\"onclick:onOkClick\"]')\n",
        "                boton.click()\n",
        "                print(\"✅ Botón Aceptar clickeado (por texto)\")\n",
        "                boton_encontrado = True\n",
        "            except:\n",
        "                print(\"❌ Botón por texto no encontrado\")\n",
        "\n",
        "        # Estrategia 3: Por clase de botón dijit\n",
        "        if not boton_encontrado:\n",
        "            try:\n",
        "                boton = driver.find_element(By.CSS_SELECTOR, 'div[class=\"jimu-btn jimu-float-trailing enable-btn\"]')\n",
        "                if 'aceptar' in boton.text.lower():\n",
        "                    boton.click()\n",
        "                    print(\"✅ Botón Aceptar clickeado (por clase dijit)\")\n",
        "                    boton_encontrado = True\n",
        "            except:\n",
        "                print(\"❌ Botón por clase dijit no encontrado\")\n",
        "\n",
        "        if not boton_encontrado:\n",
        "            raise Exception(\"No se pudo encontrar el botón Aceptar\")\n",
        "\n",
        "        # Esperar a que la ventana se cierre\n",
        "        print(\"⏳ Esperando que se cierre la ventana...\")\n",
        "        WebDriverWait(driver, 15).until(\n",
        "            EC.invisibility_of_element((By.CLASS_NAME, \"dijitDialog\"))\n",
        "        )\n",
        "\n",
        "        print(\"✅ Términos y condiciones aceptados correctamente\")\n",
        "        return True\n",
        "\n",
        "    except TimeoutException:\n",
        "        print(\"⚠️ Timeout: La ventana de términos no apareció o no se pudo cerrar\")\n",
        "        return False\n",
        "    except Exception as e:\n",
        "        print(f\"❌ Error al manejar términos y condiciones: {str(e)}\")\n",
        "        return False\n"
      ],
      "metadata": {
        "id": "XXQNqF45LU3V"
      },
      "execution_count": 45,
      "outputs": []
    },
    {
      "cell_type": "code",
      "source": [
        "# FUNCIÓN PRINCIPAL DE NAVEGACIÓN\n",
        "def navegar_a_ideam(driver):\n",
        "    \"\"\"\n",
        "    Navega al sitio del IDEAM y maneja la página inicial\n",
        "    \"\"\"\n",
        "    print(\"🌐 Navegando al sitio del IDEAM...\")\n",
        "\n",
        "    try:\n",
        "        # Ir a la página principal\n",
        "        url = \"http://dhime.ideam.gov.co/atencionciudadano/\"\n",
        "        driver.get(url)\n",
        "        print(f\"✅ Página cargada: {url}\")\n",
        "\n",
        "        # Esperar un momento para que la página se cargue completamente\n",
        "        time.sleep(3)\n",
        "\n",
        "        # Manejar términos y condiciones\n",
        "        if aceptar_terminos_condiciones(driver):\n",
        "            print(\"✅ Acceso concedido al sistema DHIME\")\n",
        "            return True\n",
        "        else:\n",
        "            print(\"❌ No se pudo acceder al sistema DHIME\")\n",
        "            return False\n",
        "\n",
        "    except Exception as e:\n",
        "        print(f\"❌ Error al navegar: {str(e)}\")\n",
        "        return False\n"
      ],
      "metadata": {
        "id": "w7mHqAbWLYSP"
      },
      "execution_count": 46,
      "outputs": []
    },
    {
      "cell_type": "code",
      "source": [
        "# FUNCIÓN DE PRUEBA ESPECÍFICA PARA TU PROBLEMA\n",
        "def test_acceso_ideam():\n",
        "    \"\"\"\n",
        "    Función de prueba específica para verificar el acceso inicial al IDEAM\n",
        "    \"\"\"\n",
        "    print(\"🧪 INICIANDO PRUEBA DE ACCESO AL IDEAM\")\n",
        "    print(\"=\" * 50)\n",
        "\n",
        "    driver = configurar_driver()\n",
        "\n",
        "    try:\n",
        "        if navegar_a_ideam(driver):\n",
        "            print(\"🎉 ¡ÉXITO! Se pudo acceder correctamente al sistema DHIME\")\n",
        "\n",
        "            # Tomar screenshot para verificar\n",
        "            driver.save_screenshot(\"screenshot_ideam_acceso.png\")\n",
        "            print(\"📸 Screenshot guardado como evidencia\")\n",
        "\n",
        "            # Esperar un poco para inspeccionar la página\n",
        "            time.sleep(5)\n",
        "\n",
        "            return True\n",
        "        else:\n",
        "            print(\"💥 FALLO: No se pudo acceder al sistema\")\n",
        "            driver.save_screenshot(\"screenshot_ideam_error.png\")\n",
        "            return False\n",
        "\n",
        "    finally:\n",
        "        driver.quit()"
      ],
      "metadata": {
        "id": "12Do_LU5MEOm"
      },
      "execution_count": 47,
      "outputs": []
    },
    {
      "cell_type": "code",
      "source": [
        "# EJEMPLO DE USO\n",
        "if __name__ == \"__main__\":\n",
        "    # Primero ejecutar la prueba de acceso\n",
        "    print(\"EJECUTANDO PRUEBA DE ACCESO...\")\n",
        "    test_acceso_ideam()"
      ],
      "metadata": {
        "colab": {
          "base_uri": "https://localhost:8080/",
          "height": 443
        },
        "id": "jbtp9lZkMIMe",
        "outputId": "ead3ab51-3e13-488d-d821-e705d8519beb"
      },
      "execution_count": 32,
      "outputs": [
        {
          "output_type": "stream",
          "name": "stdout",
          "text": [
            "EJECUTANDO PRUEBA DE ACCESO...\n",
            "🧪 INICIANDO PRUEBA DE ACCESO AL IDEAM\n",
            "==================================================\n",
            "🔧 Configurando el navegador Chrome...\n"
          ]
        },
        {
          "output_type": "display_data",
          "data": {
            "text/plain": [
              "<IPython.core.display.HTML object>"
            ],
            "text/html": [
              "\n",
              "            <div class=\"spinner-container\">\n",
              "                <div class=\"spinner\" id=\"7dd32add-2056-4eed-89cd-c8469e9bdd3a-circle\"></div>\n",
              "                <div class=\"spinner-text\" id=\"7dd32add-2056-4eed-89cd-c8469e9bdd3a-text\">Updating and upgrading APT</div>\n",
              "            </div>\n",
              "            <style>\n",
              "                @keyframes spin {\n",
              "                    from { transform: rotate(0deg); }\n",
              "                    to { transform: rotate(360deg); }\n",
              "                }\n",
              "\n",
              "                .spinner-container {\n",
              "                    display: flex;\n",
              "                    align-items: center;\n",
              "                    margin-bottom: 3px;\n",
              "                }\n",
              "\n",
              "                .spinner {\n",
              "                    border: 3px solid rgba(0, 0, 0, 0.1);\n",
              "                    border-left-color: lightblue;\n",
              "                    border-radius: 50%;\n",
              "                    width: 12px;\n",
              "                    height: 12px;\n",
              "                    animation: spin 1s linear infinite;\n",
              "                }\n",
              "\n",
              "                .spinner-text {\n",
              "                    padding-left: 6px;\n",
              "                }\n",
              "            </style>\n",
              "        "
            ]
          },
          "metadata": {}
        },
        {
          "output_type": "display_data",
          "data": {
            "text/plain": [
              "<IPython.core.display.Javascript object>"
            ],
            "application/javascript": [
              "\n",
              "            const element = document.getElementById(\"7dd32add-2056-4eed-89cd-c8469e9bdd3a-circle\");\n",
              "            element.style.border = \"3px solid limegreen\";\n",
              "            element.style.animation = \"none\";\n",
              "\n",
              "            const text = document.getElementById(\"7dd32add-2056-4eed-89cd-c8469e9bdd3a-text\");\n",
              "            text.innerText = \"Updated and upgraded APT\";\n",
              "        "
            ]
          },
          "metadata": {}
        },
        {
          "output_type": "display_data",
          "data": {
            "text/plain": [
              "<IPython.core.display.HTML object>"
            ],
            "text/html": [
              "\n",
              "            <div class=\"spinner-container\">\n",
              "                <div class=\"spinner\" id=\"86f20fd5-eb7b-4c33-a44a-3a15d1a7c184-circle\"></div>\n",
              "                <div class=\"spinner-text\" id=\"86f20fd5-eb7b-4c33-a44a-3a15d1a7c184-text\">Downloading Google Chrome</div>\n",
              "            </div>\n",
              "            <style>\n",
              "                @keyframes spin {\n",
              "                    from { transform: rotate(0deg); }\n",
              "                    to { transform: rotate(360deg); }\n",
              "                }\n",
              "\n",
              "                .spinner-container {\n",
              "                    display: flex;\n",
              "                    align-items: center;\n",
              "                    margin-bottom: 3px;\n",
              "                }\n",
              "\n",
              "                .spinner {\n",
              "                    border: 3px solid rgba(0, 0, 0, 0.1);\n",
              "                    border-left-color: lightblue;\n",
              "                    border-radius: 50%;\n",
              "                    width: 12px;\n",
              "                    height: 12px;\n",
              "                    animation: spin 1s linear infinite;\n",
              "                }\n",
              "\n",
              "                .spinner-text {\n",
              "                    padding-left: 6px;\n",
              "                }\n",
              "            </style>\n",
              "        "
            ]
          },
          "metadata": {}
        },
        {
          "output_type": "display_data",
          "data": {
            "text/plain": [
              "<IPython.core.display.Javascript object>"
            ],
            "application/javascript": [
              "\n",
              "            const element = document.getElementById(\"86f20fd5-eb7b-4c33-a44a-3a15d1a7c184-circle\");\n",
              "            element.style.border = \"3px solid limegreen\";\n",
              "            element.style.animation = \"none\";\n",
              "\n",
              "            const text = document.getElementById(\"86f20fd5-eb7b-4c33-a44a-3a15d1a7c184-text\");\n",
              "            text.innerText = \"Downloaded Google Chrome\";\n",
              "        "
            ]
          },
          "metadata": {}
        },
        {
          "output_type": "display_data",
          "data": {
            "text/plain": [
              "<IPython.core.display.HTML object>"
            ],
            "text/html": [
              "\n",
              "            <div class=\"spinner-container\">\n",
              "                <div class=\"spinner\" id=\"a03cb780-2459-4709-9e27-7826ffbad5a0-circle\"></div>\n",
              "                <div class=\"spinner-text\" id=\"a03cb780-2459-4709-9e27-7826ffbad5a0-text\">Initializing Chromedriver</div>\n",
              "            </div>\n",
              "            <style>\n",
              "                @keyframes spin {\n",
              "                    from { transform: rotate(0deg); }\n",
              "                    to { transform: rotate(360deg); }\n",
              "                }\n",
              "\n",
              "                .spinner-container {\n",
              "                    display: flex;\n",
              "                    align-items: center;\n",
              "                    margin-bottom: 3px;\n",
              "                }\n",
              "\n",
              "                .spinner {\n",
              "                    border: 3px solid rgba(0, 0, 0, 0.1);\n",
              "                    border-left-color: lightblue;\n",
              "                    border-radius: 50%;\n",
              "                    width: 12px;\n",
              "                    height: 12px;\n",
              "                    animation: spin 1s linear infinite;\n",
              "                }\n",
              "\n",
              "                .spinner-text {\n",
              "                    padding-left: 6px;\n",
              "                }\n",
              "            </style>\n",
              "        "
            ]
          },
          "metadata": {}
        },
        {
          "output_type": "display_data",
          "data": {
            "text/plain": [
              "<IPython.core.display.Javascript object>"
            ],
            "application/javascript": [
              "\n",
              "            const element = document.getElementById(\"a03cb780-2459-4709-9e27-7826ffbad5a0-circle\");\n",
              "            element.style.border = \"3px solid limegreen\";\n",
              "            element.style.animation = \"none\";\n",
              "\n",
              "            const text = document.getElementById(\"a03cb780-2459-4709-9e27-7826ffbad5a0-text\");\n",
              "            text.innerText = \"Initialized Chromedriver\";\n",
              "        "
            ]
          },
          "metadata": {}
        },
        {
          "output_type": "stream",
          "name": "stdout",
          "text": [
            "✅ Navegador configurado correctamente\n",
            "🌐 Navegando al sitio del IDEAM...\n",
            "✅ Página cargada: http://dhime.ideam.gov.co/atencionciudadano/\n",
            "📋 Manejando términos y condiciones...\n",
            "⏳ Esperando ventana de términos...\n",
            "✅ Ventana de términos detectada\n",
            "🔍 Intentando localizar checkbox - Estrategia 1...\n",
            "✅ Checkbox marcado (Estrategia 1)\n",
            "🔍 Buscando botón Aceptar...\n",
            "❌ Botón por nombre no encontrado\n",
            "❌ Botón por texto no encontrado\n",
            "✅ Botón Aceptar clickeado (por clase dijit)\n",
            "⏳ Esperando que se cierre la ventana...\n",
            "✅ Términos y condiciones aceptados correctamente\n",
            "✅ Acceso concedido al sistema DHIME\n",
            "🎉 ¡ÉXITO! Se pudo acceder correctamente al sistema DHIME\n",
            "📸 Screenshot guardado como evidencia\n"
          ]
        }
      ]
    }
  ]
}