#FUNCIONES CORREGIDAS PARA INTERACTUAR CON FORMULARIOS DEL IDEAM

def seleccionar_parametros(driver, parametro, dato, departamento, municipio):
    """
    Selecciona el parámetro meteorológico (Precipitación)
    Selecciona el dato (Precipitación total anual; Precipitación total mensual; etc.)
    Selecciona el departamento y el municipio
    """
    print(f"📊 Seleccionando parámetro: {parametro}")

    # ===== SELECCIÓN DE PARÁMETRO PRINCIPAL =====
    if parametro == "Precipitación":
        print("🔍 Buscando la variable Precipitación en el dropdown 'Variable:'")

        parametro_encontrado = False

        # Estrategia 1: Por estructura k-dropdown específica del IDEAM
        try:
            print("🔍 Intentando localizar dropdown de parámetro - Estrategia 1...")
            dropdown_parametro = WebDriverWait(driver, 15).until(
                EC.element_to_be_clickable((By.CSS_SELECTOR, 'span.k-dropdown-wrap.k-state-default'))
            )
            dropdown_parametro.click()

            # Buscar la opción "Precipitación" en la lista desplegable
            opcion_precipitacion = WebDriverWait(driver, 10).until(
                EC.element_to_be_clickable((By.XPATH, "//li[contains(text(), 'Precipitación')]"))
            )
            opcion_precipitacion.click()

            print("✅ Parámetro seleccionado (Estrategia 1)")
            parametro_encontrado = True

        except Exception as e:
            print(f"❌ Estrategia 1 falló: {str(e)}")

        # Estrategia 2: Por span con clase k-input que contiene "Precipitación"
        if not parametro_encontrado:
            try:
                print("🔍 Intentando localizar dropdown de parámetro - Estrategia 2...")
                dropdown_input = driver.find_element(By.XPATH, "//span[@class='k-input' and text()='Precipitación']/../..")
                dropdown_input.click()

                print("✅ Parámetro seleccionado (Estrategia 2)")
                parametro_encontrado = True

            except Exception as e:
                print(f"❌ Estrategia 2 falló: {str(e)}")

        # Estrategia 3: Por el ícono de arrow-s del dropdown
        if not parametro_encontrado:
            try:
                print("🔍 Intentando localizar dropdown de parámetro - Estrategia 3...")
                arrow_icon = driver.find_element(By.CSS_SELECTOR, "span.k-icon.k-i-arrow-s")
                arrow_icon.click()

                # Esperar y seleccionar "Precipitación"
                time.sleep(1)
                opcion_precipitacion = driver.find_element(By.XPATH, "//li[contains(text(), 'Precipitación')]")
                opcion_precipitacion.click()

                print("✅ Parámetro seleccionado (Estrategia 3)")
                parametro_encontrado = True

            except Exception as e:
                print(f"❌ Estrategia 3 falló: {str(e)}")

        if not parametro_encontrado:
            raise Exception("No se pudo seleccionar el parámetro Precipitación")

        time.sleep(2)

    # ===== SELECCIÓN DEL TIPO DE DATO =====
    print(f"📋 Seleccionando tipo de dato: {dato}")

    dato_encontrado = False

    if dato == "Precipitación total mensual":
        # Estrategia 1: Por ID específico del radio button
        try:
            print("🔍 Intentando localizar radio button - Estrategia 1...")
            radio_mensual = WebDriverWait(driver, 15).until(
                EC.element_to_be_clickable((By.ID, 'radio78'))
            )
            radio_mensual.click()

            print("✅ Precipitación total mensual seleccionada (Estrategia 1)")
            dato_encontrado = True

        except Exception as e:
            print(f"❌ Estrategia 1 falló: {str(e)}")

        # Estrategia 2: Por onclick attribute
        if not dato_encontrado:
            try:
                print("🔍 Intentando localizar radio button - Estrategia 2...")
                radio_mensual = driver.find_element(By.XPATH,
                    "//input[@onclick=\"cargarEtiquetaEst('PTPM_TT_M','Precipitación total mensual','Mensual')\"]")
                radio_mensual.click()

                print("✅ Precipitación total mensual seleccionada (Estrategia 2)")
                dato_encontrado = True

            except Exception as e:
                print(f"❌ Estrategia 2 falló: {str(e)}")

        # Estrategia 3: Por name y value
        if not dato_encontrado:
            try:
                print("🔍 Intentando localizar radio button - Estrategia 3...")
                radio_mensual = driver.find_element(By.XPATH,
                    "//input[@name='variablelista[]' and @type='radio']")
                driver.execute_script("arguments[0].click();", radio_mensual)

                print("✅ Precipitación total mensual seleccionada (Estrategia 3)")
                dato_encontrado = True

            except Exception as e:
                print(f"❌ Estrategia 3 falló: {str(e)}")

    if not dato_encontrado:
        raise Exception(f"No se pudo seleccionar el tipo de dato: {dato}")

    time.sleep(2)

    # ===== SELECCIÓN DEL DEPARTAMENTO =====
    print(f"📍 Seleccionando departamento: {departamento}")
    try:
        # 1) Clic en el wrapper que dispara el dropdown (usa aria-owns)
        dropdown_dept = WebDriverWait(driver, 15).until(
            EC.element_to_be_clickable(
                (By.CSS_SELECTOR, 'span[aria-owns="deptos2_listbox"] .k-dropdown-wrap')
            )
        )
        dropdown_dept.click()

        # 2) Esperar la lista y elegir la opción exacta
        opciones_dept = WebDriverWait(driver, 10).until(
            EC.visibility_of_all_elements_located(
                (By.CSS_SELECTOR, '#deptos2_listbox li[role="option"]')
            )
        )
        for opt in opciones_dept:
            if opt.text.strip() == departamento:
                opt.click()
                print(f"✅ Departamento '{departamento}' seleccionado")
                break
        else:
            raise Exception(f"No encontré '{departamento}' en #deptos2_listbox")
    except Exception as e:
        print(f"❌ Error seleccionando departamento: {e}")
        driver.save_screenshot('error_depto.png')
        raise
    time.sleep(1)

    # ===== SELECCIÓN DEL MUNICIPIO =====
    print(f"🏘️ Seleccionando municipio: {municipio}")
    try:
        # 1) Clic en el wrapper para desplegar municipio (id=municipio2)
        dropdown_muni = WebDriverWait(driver, 15).until(
            EC.element_to_be_clickable(
                (By.CSS_SELECTOR, 'span[aria-owns="municipio2_listbox"] .k-dropdown-wrap')
            )
        )
        dropdown_muni.click()

        # 2) Esperar la lista y elegir la opción
        opciones_muni = WebDriverWait(driver, 10).until(
            EC.visibility_of_all_elements_located(
                (By.CSS_SELECTOR, '#municipio2_listbox li[role="option"]')
            )
        )
        for opt in opciones_muni:
            if opt.text.strip() == municipio:
                opt.click()
                print(f"✅ Municipio '{municipio}' seleccionado")
                break
        else:
            raise Exception(f"No encontré '{municipio}' en #municipio2_listbox")
    except Exception as e:
        print(f"❌ Error seleccionando municipio: {e}")
        driver.save_screenshot('error_muni.png')
        raise
    time.sleep(1)


    # ===== HACER CLICK EN FILTRAR =====
    print("🔍 Haciendo click en el botón Filtrar...")

    filtrar_encontrado = False

    # Estrategia 1: Por data-dojo-attach-event específico
    try:
        print("🔍 Intentando localizar botón Filtrar - Estrategia 1...")
        boton_filtrar = WebDriverWait(driver, 15).until(
            EC.element_to_be_clickable((By.CSS_SELECTOR, 'div[data-dojo-attach-event="onclick:_consultarDatosMetadata"]'))
        )
        boton_filtrar.click()

        print("✅ Botón Filtrar clickeado (Estrategia 1)")
        filtrar_encontrado = True

    except Exception as e:
        print(f"❌ Estrategia 1 falló: {str(e)}")

    # Estrategia 2: Por clase jimu-btn que contiene "Filtrar"
    if not filtrar_encontrado:
        try:
            print("🔍 Intentando localizar botón Filtrar - Estrategia 2...")
            boton_filtrar = driver.find_element(By.XPATH, "//div[@class='jimu-btn' and contains(text(), 'Filtrar')]")
            boton_filtrar.click()

            print("✅ Botón Filtrar clickeado (Estrategia 2)")
            filtrar_encontrado = True

        except Exception as e:
            print(f"❌ Estrategia 2 falló: {str(e)}")

    if not filtrar_encontrado:
        raise Exception("No se pudo encontrar el botón Filtrar")

    # Esperar a que se procese la consulta
    print("⏳ Esperando resultados del filtro...")
    time.sleep(5)

    print("✅ Búsqueda de las estaciones realizada correctamente")
    return True